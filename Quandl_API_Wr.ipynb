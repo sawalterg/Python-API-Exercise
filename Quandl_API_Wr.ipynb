{
 "cells": [
  {
   "cell_type": "markdown",
   "metadata": {},
   "source": [
    "# Connect to Quandl API, download FSX data for 2017 and store as dict"
   ]
  },
  {
   "cell_type": "code",
   "execution_count": 19,
   "metadata": {},
   "outputs": [],
   "source": [
    "# Assign api key to object\n",
    "\n",
    "API_KEY = 'BPeZQt_yZWd6PqDoNPvA'\n",
    "\n",
    "# import relevent libraries\n",
    "\n",
    "import requests\n",
    "import json\n",
    "import collections\n",
    "\n",
    "# Create url object\n",
    "\n",
    "url = 'https://www.quandl.com/api/v3/datasets/FSE/AFX_X/data.json?start_date=2017-01-01&end_date=2017-12-31&api_key=%s' % API_KEY\n",
    "\n",
    "# Make a request object for the data\n",
    "\n",
    "r = requests.get(url)\n",
    "\n",
    "# Turn request object into a dictionary\n",
    "\n",
    "json_data = r.json()\n",
    "\n"
   ]
  },
  {
   "cell_type": "markdown",
   "metadata": {},
   "source": [
    "#  Find maximum and minimum opening price"
   ]
  },
  {
   "cell_type": "code",
   "execution_count": 20,
   "metadata": {},
   "outputs": [
    {
     "name": "stdout",
     "output_type": "stream",
     "text": [
      "Opening Maximum: 53.11\n",
      "Opening Minimum: 34.0\n"
     ]
    }
   ],
   "source": [
    "# Convert the opening price values into a list \n",
    "\n",
    "opening_prices = []\n",
    "for i in json_data['dataset_data']['data']:\n",
    "    if i[1] == None:\n",
    "        continue\n",
    "    else:\n",
    "        opening_prices.append(float(i[1]))\n",
    "    \n",
    "# Find  Maximum and minumum of the list  \n",
    "\n",
    "opening_max = max(opening_prices)\n",
    "\n",
    "opening_min = min(opening_prices)\n",
    "\n",
    "# Print values\n",
    "\n",
    "print('Opening Maximum: ' + str(opening_max))\n",
    "\n",
    "print('Opening Minimum: ' + str(opening_min))"
   ]
  },
  {
   "cell_type": "markdown",
   "metadata": {},
   "source": [
    "# Find the largest difference in daily high vs. low "
   ]
  },
  {
   "cell_type": "code",
   "execution_count": 21,
   "metadata": {},
   "outputs": [
    {
     "name": "stdout",
     "output_type": "stream",
     "text": [
      "The largest swing in price was 2.81\n"
     ]
    }
   ],
   "source": [
    "# Calculate the largest difference in high vs low by converting to a list and storing the difference between the two as a list\n",
    "\n",
    "daily_swing = []\n",
    "for i in json_data['dataset_data']['data']:\n",
    "    daily_swing.append(float(i[2]) - float(i[3]))\n",
    "    \n",
    "# Take the maximum of that list and print the results\n",
    "    \n",
    "print('The largest swing in price was ' + str(round(max(daily_swing),2)))"
   ]
  },
  {
   "cell_type": "markdown",
   "metadata": {},
   "source": [
    "# Largest change between two days (closing price)"
   ]
  },
  {
   "cell_type": "code",
   "execution_count": 22,
   "metadata": {},
   "outputs": [
    {
     "name": "stdout",
     "output_type": "stream",
     "text": [
      "The largest day-to-day difference in closing price 2.56\n"
     ]
    }
   ],
   "source": [
    "# Determine the largest in closing price (day-to-day) by first creating list of the closing prices\n",
    "\n",
    "closing_price = []\n",
    "for i in json_data['dataset_data']['data']:\n",
    "    closing_price.append(float(i[4]))\n",
    "\n",
    "# Using a list comprehension, take the original list and offset the list by one, zip the two lists together and take the absolute value of the two lists    \n",
    "    \n",
    "closing_diff = [abs(j-i) for i, j in zip(closing_price, closing_price[1:])]   \n",
    "\n",
    "# Print the maximum difference\n",
    "\n",
    "print('The largest day-to-day difference in closing price ' + str(round(max(closing_diff),2)))\n"
   ]
  },
  {
   "cell_type": "markdown",
   "metadata": {},
   "source": [
    "# Average Traded Volume"
   ]
  },
  {
   "cell_type": "code",
   "execution_count": 23,
   "metadata": {},
   "outputs": [
    {
     "name": "stdout",
     "output_type": "stream",
     "text": [
      "The average volume is 89124.34\n"
     ]
    }
   ],
   "source": [
    "\n",
    "# Determine the average daily volume trading using a list comprehension of the volume divided by a length of the data\n",
    "\n",
    "avg_vol = sum([float(i[6]) for i in json_data['dataset_data']['data']]) / float(len(json_data['dataset_data']['data']))\n",
    "print('The average volume is ' + str(round(avg_vol,2)))\n"
   ]
  },
  {
   "cell_type": "markdown",
   "metadata": {},
   "source": [
    "# Median Traded Volume"
   ]
  },
  {
   "cell_type": "code",
   "execution_count": 25,
   "metadata": {},
   "outputs": [
    {
     "name": "stdout",
     "output_type": "stream",
     "text": [
      "The median volume is 76286.0\n"
     ]
    }
   ],
   "source": [
    "# Create a list of the volume values\n",
    "\n",
    "volume_list = []\n",
    "for i in json_data['dataset_data']['data']:\n",
    "    volume_list.append(i[6])\n",
    "\n",
    "# Use a function to determine median which checks if the length of the list is even or odd, if odd, take the middle value else return the \n",
    "# average of the two middle values\n",
    "\n",
    "def med(lst = volume_list):\n",
    "    list_len = len(lst)\n",
    "    if list_len % 2 == 1:\n",
    "        return sorted(lst)[list_len//2]\n",
    "    else:\n",
    "        return sum(sorted(lst)[list_len//2-1:list_len//2+1])/2\n",
    "\n",
    "# Print the volume\n",
    "    \n",
    "print('The median volume is ' + str(round(med() ,2)))"
   ]
  }
 ],
 "metadata": {
  "kernelspec": {
   "display_name": "Python 3",
   "language": "python",
   "name": "python3"
  }
 },
 "nbformat": 4,
 "nbformat_minor": 2
}
